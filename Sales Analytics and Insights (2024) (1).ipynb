{
 "cells": [
  {
   "cell_type": "markdown",
   "id": "9c1757b5",
   "metadata": {},
   "source": [
    "## Review of Retail Sales Data 2024"
   ]
  },
  {
   "cell_type": "code",
   "execution_count": 68,
   "id": "aba02160",
   "metadata": {},
   "outputs": [],
   "source": [
    "# Importing necessary libraries\n",
    "import pandas as pd \n",
    "import matplotlib.pyplot as plt\n",
    "import seaborn as sns\n",
    "import numpy as np"
   ]
  },
  {
   "cell_type": "code",
   "execution_count": 69,
   "id": "d9abf252",
   "metadata": {},
   "outputs": [
    {
     "data": {
      "text/html": [
       "<div>\n",
       "<style scoped>\n",
       "    .dataframe tbody tr th:only-of-type {\n",
       "        vertical-align: middle;\n",
       "    }\n",
       "\n",
       "    .dataframe tbody tr th {\n",
       "        vertical-align: top;\n",
       "    }\n",
       "\n",
       "    .dataframe thead th {\n",
       "        text-align: right;\n",
       "    }\n",
       "</style>\n",
       "<table border=\"1\" class=\"dataframe\">\n",
       "  <thead>\n",
       "    <tr style=\"text-align: right;\">\n",
       "      <th></th>\n",
       "      <th>Store ID</th>\n",
       "      <th>Date</th>\n",
       "      <th>Total Sales</th>\n",
       "      <th>Region</th>\n",
       "      <th>Product Category</th>\n",
       "      <th>Units Sold</th>\n",
       "    </tr>\n",
       "  </thead>\n",
       "  <tbody>\n",
       "    <tr>\n",
       "      <th>0</th>\n",
       "      <td>Store_7</td>\n",
       "      <td>2024-12-26</td>\n",
       "      <td>4080.97</td>\n",
       "      <td>Mombasa</td>\n",
       "      <td>Electronics</td>\n",
       "      <td>92</td>\n",
       "    </tr>\n",
       "    <tr>\n",
       "      <th>1</th>\n",
       "      <td>Store_4</td>\n",
       "      <td>2024-10-12</td>\n",
       "      <td>4895.46</td>\n",
       "      <td>Nairobi</td>\n",
       "      <td>Electronics</td>\n",
       "      <td>86</td>\n",
       "    </tr>\n",
       "    <tr>\n",
       "      <th>2</th>\n",
       "      <td>Store_8</td>\n",
       "      <td>2024-09-29</td>\n",
       "      <td>3363.09</td>\n",
       "      <td>Nairobi</td>\n",
       "      <td>Electronics</td>\n",
       "      <td>14</td>\n",
       "    </tr>\n",
       "    <tr>\n",
       "      <th>3</th>\n",
       "      <td>Store_5</td>\n",
       "      <td>2024-03-02</td>\n",
       "      <td>7602.29</td>\n",
       "      <td>Nairobi</td>\n",
       "      <td>Home &amp; Living</td>\n",
       "      <td>71</td>\n",
       "    </tr>\n",
       "    <tr>\n",
       "      <th>4</th>\n",
       "      <td>Store_7</td>\n",
       "      <td>2024-03-24</td>\n",
       "      <td>5275.84</td>\n",
       "      <td>Nairobi</td>\n",
       "      <td>Electronics</td>\n",
       "      <td>86</td>\n",
       "    </tr>\n",
       "  </tbody>\n",
       "</table>\n",
       "</div>"
      ],
      "text/plain": [
       "  Store ID        Date  Total Sales   Region Product Category  Units Sold\n",
       "0  Store_7  2024-12-26      4080.97  Mombasa      Electronics          92\n",
       "1  Store_4  2024-10-12      4895.46  Nairobi      Electronics          86\n",
       "2  Store_8  2024-09-29      3363.09  Nairobi      Electronics          14\n",
       "3  Store_5  2024-03-02      7602.29  Nairobi    Home & Living          71\n",
       "4  Store_7  2024-03-24      5275.84  Nairobi      Electronics          86"
      ]
     },
     "execution_count": 69,
     "metadata": {},
     "output_type": "execute_result"
    }
   ],
   "source": [
    "# Importing the file\n",
    "df = pd.read_csv(\"C:/Users/Mandi/Downloads/retail_sales_data.csv\")\n",
    "df.head()"
   ]
  },
  {
   "cell_type": "code",
   "execution_count": 70,
   "id": "94799ba8",
   "metadata": {},
   "outputs": [
    {
     "data": {
      "text/plain": [
       "(500, 6)"
      ]
     },
     "execution_count": 70,
     "metadata": {},
     "output_type": "execute_result"
    }
   ],
   "source": [
    "# Shape of the data\n",
    "df.shape"
   ]
  },
  {
   "cell_type": "code",
   "execution_count": 71,
   "id": "44d0dfb8",
   "metadata": {},
   "outputs": [
    {
     "data": {
      "text/plain": [
       "Store ID             object\n",
       "Date                 object\n",
       "Total Sales         float64\n",
       "Region               object\n",
       "Product Category     object\n",
       "Units Sold            int64\n",
       "dtype: object"
      ]
     },
     "execution_count": 71,
     "metadata": {},
     "output_type": "execute_result"
    }
   ],
   "source": [
    "# Checking column types\n",
    "df.dtypes"
   ]
  },
  {
   "cell_type": "code",
   "execution_count": 73,
   "id": "e6c67501",
   "metadata": {},
   "outputs": [
    {
     "name": "stdout",
     "output_type": "stream",
     "text": [
      "Duplicated rows: 0\n"
     ]
    }
   ],
   "source": [
    "# Checking for duplicated rows\n",
    "duplicates = df.duplicated().sum()\n",
    "print(f\"Duplicated rows: {duplicates}\")"
   ]
  },
  {
   "cell_type": "code",
   "execution_count": 74,
   "id": "f9753612",
   "metadata": {},
   "outputs": [
    {
     "name": "stdout",
     "output_type": "stream",
     "text": [
      "Missing values per column:\n",
      " Store ID            0\n",
      "Date                0\n",
      "Total Sales         0\n",
      "Region              0\n",
      "Product Category    0\n",
      "Units Sold          0\n",
      "dtype: int64\n"
     ]
    }
   ],
   "source": [
    "# Checking for missing values\n",
    "missing = df.isnull().sum()\n",
    "print(\"Missing values per column:\\n\", missing)"
   ]
  },
  {
   "cell_type": "code",
   "execution_count": 75,
   "id": "10381d13",
   "metadata": {},
   "outputs": [
    {
     "data": {
      "text/plain": [
       "<bound method DataFrame.info of     Store ID        Date  Total Sales   Region Product Category  Units Sold\n",
       "0    Store_7  2024-12-26      4080.97  Mombasa      Electronics          92\n",
       "1    Store_4  2024-10-12      4895.46  Nairobi      Electronics          86\n",
       "2    Store_8  2024-09-29      3363.09  Nairobi      Electronics          14\n",
       "3    Store_5  2024-03-02      7602.29  Nairobi    Home & Living          71\n",
       "4    Store_7  2024-03-24      5275.84  Nairobi      Electronics          86\n",
       "..       ...         ...          ...      ...              ...         ...\n",
       "495  Store_1  2024-03-29      6690.83   Kisumu    Home & Living          63\n",
       "496  Store_7  2024-10-22      4001.00  Nairobi      Electronics          49\n",
       "497  Store_7  2024-11-23      8711.40   Kisumu        Groceries          64\n",
       "498  Store_9  2024-10-21      4995.49   Nakuru        Groceries          32\n",
       "499  Store_3  2024-04-13      9697.84  Nairobi        Groceries           7\n",
       "\n",
       "[500 rows x 6 columns]>"
      ]
     },
     "execution_count": 75,
     "metadata": {},
     "output_type": "execute_result"
    }
   ],
   "source": [
    "# checking all information\n",
    "df.info"
   ]
  },
  {
   "cell_type": "code",
   "execution_count": 76,
   "id": "bcdea564",
   "metadata": {
    "scrolled": true
   },
   "outputs": [
    {
     "data": {
      "text/html": [
       "<div>\n",
       "<style scoped>\n",
       "    .dataframe tbody tr th:only-of-type {\n",
       "        vertical-align: middle;\n",
       "    }\n",
       "\n",
       "    .dataframe tbody tr th {\n",
       "        vertical-align: top;\n",
       "    }\n",
       "\n",
       "    .dataframe thead th {\n",
       "        text-align: right;\n",
       "    }\n",
       "</style>\n",
       "<table border=\"1\" class=\"dataframe\">\n",
       "  <thead>\n",
       "    <tr style=\"text-align: right;\">\n",
       "      <th></th>\n",
       "      <th>Total Sales</th>\n",
       "      <th>Units Sold</th>\n",
       "    </tr>\n",
       "  </thead>\n",
       "  <tbody>\n",
       "    <tr>\n",
       "      <th>count</th>\n",
       "      <td>500.000000</td>\n",
       "      <td>500.000000</td>\n",
       "    </tr>\n",
       "    <tr>\n",
       "      <th>mean</th>\n",
       "      <td>5316.515760</td>\n",
       "      <td>49.254000</td>\n",
       "    </tr>\n",
       "    <tr>\n",
       "      <th>std</th>\n",
       "      <td>2791.164576</td>\n",
       "      <td>28.980843</td>\n",
       "    </tr>\n",
       "    <tr>\n",
       "      <th>min</th>\n",
       "      <td>544.000000</td>\n",
       "      <td>1.000000</td>\n",
       "    </tr>\n",
       "    <tr>\n",
       "      <th>25%</th>\n",
       "      <td>2799.700000</td>\n",
       "      <td>22.000000</td>\n",
       "    </tr>\n",
       "    <tr>\n",
       "      <th>50%</th>\n",
       "      <td>5429.340000</td>\n",
       "      <td>49.000000</td>\n",
       "    </tr>\n",
       "    <tr>\n",
       "      <th>75%</th>\n",
       "      <td>7746.085000</td>\n",
       "      <td>75.000000</td>\n",
       "    </tr>\n",
       "    <tr>\n",
       "      <th>max</th>\n",
       "      <td>9980.370000</td>\n",
       "      <td>99.000000</td>\n",
       "    </tr>\n",
       "  </tbody>\n",
       "</table>\n",
       "</div>"
      ],
      "text/plain": [
       "       Total Sales  Units Sold\n",
       "count   500.000000  500.000000\n",
       "mean   5316.515760   49.254000\n",
       "std    2791.164576   28.980843\n",
       "min     544.000000    1.000000\n",
       "25%    2799.700000   22.000000\n",
       "50%    5429.340000   49.000000\n",
       "75%    7746.085000   75.000000\n",
       "max    9980.370000   99.000000"
      ]
     },
     "execution_count": 76,
     "metadata": {},
     "output_type": "execute_result"
    }
   ],
   "source": [
    "# Checking the statistical summary\n",
    "df.describe()"
   ]
  },
  {
   "cell_type": "markdown",
   "id": "9bbab64d",
   "metadata": {},
   "source": [
    "#### Data cleaning - general overview\n",
    "The dataset was in good shape overall. It had the correct number of rows and columns, with no missing or duplicate values. After a quick cleanup of column names and formatting, the data was clear, consistent, and ready for analysis. No unusual values or errors were found during the initial review.\n"
   ]
  },
  {
   "cell_type": "markdown",
   "id": "160e9551",
   "metadata": {},
   "source": [
    "### Descriptive Analysis"
   ]
  },
  {
   "cell_type": "code",
   "execution_count": 86,
   "id": "3843816b",
   "metadata": {},
   "outputs": [
    {
     "name": "stdout",
     "output_type": "stream",
     "text": [
      "\n",
      "The unique Regions and Product Categories values are:\n",
      "['Mombasa' 'Nairobi' 'Nakuru' 'Kisumu']\n",
      "['Electronics' 'Home & Living' 'Groceries' 'Clothing']\n"
     ]
    }
   ],
   "source": [
    "# Preview unique values and data types\n",
    "print(f\"\\nThe unique Regions and Product Categories values are:\")\n",
    "print(df['Region'].unique())\n",
    "print(df['Product Category'].unique())"
   ]
  },
  {
   "cell_type": "code",
   "execution_count": 79,
   "id": "49653c0b",
   "metadata": {
    "scrolled": false
   },
   "outputs": [
    {
     "name": "stdout",
     "output_type": "stream",
     "text": [
      "Region\n",
      "Nairobi    710256.84\n",
      "Mombasa    710064.10\n",
      "Nakuru     653163.53\n",
      "Kisumu     584773.41\n",
      "Name: Total Sales, dtype: float64\n",
      "\n",
      "Top Region is Nairobi with total sales of 710,256.84\n"
     ]
    }
   ],
   "source": [
    "# Which region had the highest sales overall?\n",
    "\n",
    "region_sales = df.groupby('Region')['Total Sales'].sum().sort_values(ascending=False)\n",
    "print(region_sales)\n",
    "\n",
    "# Get the top region\n",
    "top_region = region_sales.idxmax()\n",
    "top_sales = region_sales.max()\n",
    "print(f\"\\nTop Region is {top_region} with total sales of {top_sales:,.2f}\")"
   ]
  },
  {
   "cell_type": "markdown",
   "id": "01efc359",
   "metadata": {},
   "source": [
    "Nairobi recorded the highest total sales at KES 710,256.84, slightly surpassing Mombasa. "
   ]
  },
  {
   "cell_type": "code",
   "execution_count": 80,
   "id": "2da5970f",
   "metadata": {},
   "outputs": [
    {
     "name": "stdout",
     "output_type": "stream",
     "text": [
      "\n",
      "Average Monthly Sales Across All Stores: 221,521.49\n"
     ]
    }
   ],
   "source": [
    "# What was the average monthly sales across all stores?\n",
    "df['Date'] = pd.to_datetime(df['Date'])\n",
    "df['Month'] = df['Date'].dt.to_period('M')\n",
    "monthly_sales = df.groupby('Month')['Total Sales'].sum()\n",
    "avg_monthly_sales = monthly_sales.mean()\n",
    "\n",
    "print(f\"\\nAverage Monthly Sales Across All Stores: {avg_monthly_sales:,.2f}\")\n"
   ]
  },
  {
   "cell_type": "markdown",
   "id": "8355b2f1",
   "metadata": {},
   "source": [
    "The average monthly sales across all stores were KES 221,521.49, indicating steady revenue generation throughout the year."
   ]
  },
  {
   "cell_type": "markdown",
   "id": "a5c93ea4",
   "metadata": {},
   "source": [
    "### Visualization"
   ]
  },
  {
   "cell_type": "code",
   "execution_count": 81,
   "id": "cc9d070e",
   "metadata": {
    "scrolled": false
   },
   "outputs": [
    {
     "data": {
      "image/png": "[encoded data removed]",
      "text/plain": [
       "<Figure size 800x400 with 1 Axes>"
      ]
     },
     "metadata": {},
     "output_type": "display_data"
    }
   ],
   "source": [
    "# Bar chart of total sales by product category.\n",
    "category_sales = df.groupby('Product Category')['Total Sales'].sum().sort_values()\n",
    "\n",
    "plt.figure(figsize=(8,4))\n",
    "sns.barplot(x=category_sales.values, y=category_sales.index, palette=\"Blues_d\")\n",
    "plt.title(\"Total Sales by Product Category\")\n",
    "plt.xlabel(\"Total Sales\")\n",
    "plt.ylabel(\"Product Category\")\n",
    "plt.tight_layout()\n",
    "plt.show()\n"
   ]
  },
  {
   "cell_type": "markdown",
   "id": "55f8a86f",
   "metadata": {},
   "source": [
    "The bar chart displays the total sales generated by each product category in 2024. Home & Living has the highest total sales among the four categories, followed closely by Groceries and Clothing. Electronics has the lowest sales, which may indicate less demand. This suggests a potential area for review concerning pricing and marketing strategies."
   ]
  },
  {
   "cell_type": "code",
   "execution_count": 82,
   "id": "ffb2ce5c",
   "metadata": {
    "scrolled": false
   },
   "outputs": [
    {
     "data": {
      "image/png": "[encoded data removed]",
      "text/plain": [
       "<Figure size 800x400 with 1 Axes>"
      ]
     },
     "metadata": {},
     "output_type": "display_data"
    }
   ],
   "source": [
    "# Line chart showing monthly sales trends\n",
    "monthly_sales = df.groupby('Month')['Total Sales'].sum()\n",
    "\n",
    "plt.figure(figsize=(8,4))\n",
    "monthly_sales.plot(kind='line', marker='o', color='green')\n",
    "plt.title(\"Monthly Sales Trend\")\n",
    "plt.xlabel(\"Month\")\n",
    "plt.ylabel(\"Total Sales\")\n",
    "plt.grid(True)\n",
    "plt.tight_layout()\n",
    "plt.show()\n"
   ]
  },
  {
   "cell_type": "markdown",
   "id": "0e75360f",
   "metadata": {},
   "source": [
    "The line graph illustrates the monthly sales trends for the year 2024. Sales performance varied significantly throughout the year, with the highest sales recorded in August, indicating a potential peak season. Conversely, July saw the lowest sales, which may point to issues such as reduced demand or operational challenges. Notable dips also occurred in April and October, while May and November displayed strong recoveries."
   ]
  },
  {
   "cell_type": "markdown",
   "id": "d202b8a4",
   "metadata": {},
   "source": [
    "### Insight Summary "
   ]
  },
  {
   "cell_type": "markdown",
   "id": "9cad0bf4",
   "metadata": {},
   "source": [
    "The Nairobi region generated the highest overall sales, which shows strong market performance. To capitalize on this, increasing product availability and strengthening marketing efforts to capitalize on consumer demand is advisable, especially in high-performing categories like Clothing, Groceries and Home and living.\n",
    "\n",
    "There was a noticeable decline in sales during June and July, followed by a significant rebound in August. This pattern suggests seasonal demand, which may be influenced by promotional events, restocking cycles, or regional festivities. The dip in sales could also be attributed to an off-peak season, supply chain disruptions, or reduced customer engagement during those months.\n",
    "\n",
    "#### Recommendation:\n",
    "\n",
    "- Investigate the causes of the mid-year sales dips and boost sales through timely promotions.\n",
    "\n",
    "- Align inventory planning and marketing calendars with seasonal demand cycles to prevent missed revenue opportunities."
   ]
  }
 ],
 "metadata": {
  "kernelspec": {
   "display_name": "Python 3 (ipykernel)",
   "language": "python",
   "name": "python3"
  },
  "language_info": {
   "codemirror_mode": {
    "name": "ipython",
    "version": 3
   },
   "file_extension": ".py",
   "mimetype": "text/x-python",
   "name": "python",
   "nbconvert_exporter": "python",
   "pygments_lexer": "ipython3",
   "version": "3.10.9"
  }
 },
 "nbformat": 4,
 "nbformat_minor": 5
}
